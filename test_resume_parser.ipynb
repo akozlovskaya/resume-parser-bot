{
 "cells": [
  {
   "cell_type": "code",
   "execution_count": 1,
   "id": "badf0007",
   "metadata": {},
   "outputs": [],
   "source": [
    "import sys\n",
    "import os\n",
    "from advanced_resume_parser import AdvancedResumeParser\n",
    "import logging\n",
    "import glob"
   ]
  },
  {
   "cell_type": "code",
   "execution_count": 2,
   "id": "9ca2cd27",
   "metadata": {},
   "outputs": [],
   "source": [
    "logging.basicConfig(\n",
    "    level=logging.INFO,\n",
    "    format='%(asctime)s - %(name)s - %(levelname)s - %(message)s'\n",
    ")\n",
    "logger = logging.getLogger(__name__)\n",
    "\n",
    "def test_extract_text(parser, file_path):\n",
    "    \"\"\"Тестирование извлечения текста из PDF\"\"\"\n",
    "    logger.info(f\"Тестирование извлечения текста из файла: {file_path}\")\n",
    "    try:\n",
    "        text = parser.extract_text_from_pdf(file_path)\n",
    "        logger.info(\"Текст успешно извлечен\")\n",
    "        logger.info(\"Первые 500 символов текста:\")\n",
    "        logger.info(\"-\" * 50)\n",
    "        logger.info(text[:500])\n",
    "        return text\n",
    "    except Exception as e:\n",
    "        logger.error(f\"Ошибка при извлечении текста: {e}\")\n",
    "        return None"
   ]
  },
  {
   "cell_type": "code",
   "execution_count": 3,
   "id": "196c556c",
   "metadata": {},
   "outputs": [],
   "source": [
    "import sys\n",
    "sys.path.insert(0, \"C:/users/user/documents/development/pharos/.venv/lib/site-packages\")"
   ]
  },
  {
   "cell_type": "code",
   "execution_count": 4,
   "id": "9fd410ad",
   "metadata": {},
   "outputs": [
    {
     "name": "stderr",
     "output_type": "stream",
     "text": [
      "2025-03-03 14:52:44,244 - advanced_resume_parser - INFO - Initializing resume parser...\n",
      "2025-03-03 14:52:44,399 - pymorphy2.opencorpora_dict.wrapper - INFO - Loading dictionaries from C:\\users/user/documents/development/pharos/.venv/lib/site-packages\\pymorphy2_dicts_ru\\data\n",
      "2025-03-03 14:52:44,451 - pymorphy2.opencorpora_dict.wrapper - INFO - format: 2.4, revision: 417127, updated: 2020-10-11T15:05:51.070345\n",
      "2025-03-03 14:52:45,588 - pymorphy3.opencorpora_dict.wrapper - INFO - Loading dictionaries from C:\\users/user/documents/development/pharos/.venv/lib/site-packages\\pymorphy3_dicts_ru\\data\n",
      "2025-03-03 14:52:45,647 - pymorphy3.opencorpora_dict.wrapper - INFO - format: 2.4, revision: 417150, updated: 2022-01-08T22:09:24.565962\n",
      "C:\\Users\\User\\AppData\\Local\\Programs\\Python\\Python310\\lib\\site-packages\\huggingface_hub\\file_download.py:797: FutureWarning: `resume_download` is deprecated and will be removed in version 1.0.0. Downloads always resume when possible. If you want to force a new download, use `force_download=True`.\n",
      "  warnings.warn(\n",
      "2025-03-03 14:52:57,927 - advanced_resume_parser - INFO - Classification model successfully loaded\n"
     ]
    }
   ],
   "source": [
    "parser = AdvancedResumeParser()"
   ]
  },
  {
   "cell_type": "code",
   "execution_count": 11,
   "id": "bd8cd722",
   "metadata": {},
   "outputs": [
    {
     "name": "stderr",
     "output_type": "stream",
     "text": [
      "2025-03-03 14:53:38,364 - __main__ - INFO - Тестирование извлечения текста из файла: resumes\\20250303_143409_Оганевская Лусинэ Месроповна QA.pdf\n",
      "2025-03-03 14:53:38,606 - __main__ - INFO - Текст успешно извлечен\n",
      "2025-03-03 14:53:38,606 - __main__ - INFO - Первые 500 символов текста:\n",
      "2025-03-03 14:53:38,609 - __main__ - INFO - --------------------------------------------------\n",
      "2025-03-03 14:53:38,610 - __main__ - INFO - Оганевская Лусинэ Месроповна\n",
      "Женщина, 34 года, родилась 12 июля 1990\n",
      "+7 (988) 5639406 — предпочитаемый способ связи • и на электронную почту\n",
      "lusineogan1207@mail.ru\n",
      "Другой сайт: https://t.me/Lusine1207\n",
      "Проживает: Москва\n",
      "Гражданство: Россия, есть разрешение на работу: Россия\n",
      "Не готова к переезду, готова к редким командировкам\n",
      "Желаемая должность и зарплата\n",
      "QA Engineer / Тестировщик\n",
      "Специализации:\n",
      "— Тестировщик\n",
      "Занятость: полная занятость\n",
      "График работы: полный день, удаленная работа\n",
      "Желательное врем\n"
     ]
    }
   ],
   "source": [
    "file_path = glob.glob('resumes/*Луси*')[1]\n",
    "text = test_extract_text(parser, file_path)"
   ]
  },
  {
   "cell_type": "code",
   "execution_count": 12,
   "id": "cf58a90f",
   "metadata": {},
   "outputs": [],
   "source": [
    "doc_spacy = parser.nlp(' . '.join(text[:1000].split('\\n')))"
   ]
  },
  {
   "cell_type": "code",
   "execution_count": 13,
   "id": "a370c24e",
   "metadata": {},
   "outputs": [
    {
     "data": {
      "text/plain": [
       "Оганевская Лусинэ Месроповна . Женщина, 34 года, родилась 12 июля 1990 . +7 (988) 5639406 — предпочитаемый способ связи • и на электронную почту . lusineogan1207@mail.ru . Другой сайт: https://t.me/Lusine1207 . Проживает: Москва . Гражданство: Россия, есть разрешение на работу: Россия . Не готова к переезду, готова к редким командировкам . Желаемая должность и зарплата . QA Engineer / Тестировщик . Специализации: . — Тестировщик . Занятость: полная занятость . График работы: полный день, удаленная работа . Желательное время в пути до работы: не имеет значения . Опыт работы — 3 года 7 месяцев . Июль 2021 — ChefMarket- . Январь 2025 . Москва, www.chefmarket.ru/?ysclid=m2da5w97cb331043685 . 3 года 7 месяцев . QA Engineer . Stack: Postman,Swagger, Jira,Confluence,Zephyr,MySQL,Charles Proxy,DevTools, Figma,Android . Studio, Kibana . В мои обязанности входило: . -Участие в планировании спринтов . -Анализ требований в Confluence . -Создание и актуализация тестовой документации (тест планы,тест-кейсы, чек-листы, . баг-репорты) с помощью Jira, Zep"
      ]
     },
     "execution_count": 13,
     "metadata": {},
     "output_type": "execute_result"
    }
   ],
   "source": [
    "doc_spacy"
   ]
  },
  {
   "cell_type": "code",
   "execution_count": 14,
   "id": "7377a57c",
   "metadata": {},
   "outputs": [
    {
     "name": "stdout",
     "output_type": "stream",
     "text": [
      "Лусинэ Месроповна\n",
      "--------------------\n",
      "4317129024397789502\n",
      "----------------------------------------\n",
      "Москва\n",
      "--------------------\n",
      "385\n",
      "----------------------------------------\n",
      "Россия\n",
      "--------------------\n",
      "385\n",
      "----------------------------------------\n",
      "Россия\n",
      "--------------------\n",
      "385\n",
      "----------------------------------------\n",
      "QA Engineer /\n",
      "--------------------\n",
      "383\n",
      "----------------------------------------\n",
      "Москва\n",
      "--------------------\n",
      "385\n",
      "----------------------------------------\n",
      "Swagger\n",
      "--------------------\n",
      "383\n",
      "----------------------------------------\n",
      "Jira\n",
      "--------------------\n",
      "383\n",
      "----------------------------------------\n",
      "Confluence\n",
      "--------------------\n",
      "383\n",
      "----------------------------------------\n",
      "Zephyr\n",
      "--------------------\n",
      "383\n",
      "----------------------------------------\n",
      "MySQL\n",
      "--------------------\n",
      "383\n",
      "----------------------------------------\n",
      "Charles Proxy\n",
      "--------------------\n",
      "383\n",
      "----------------------------------------\n",
      "DevTools\n",
      "--------------------\n",
      "383\n",
      "----------------------------------------\n",
      "Figma\n",
      "--------------------\n",
      "383\n",
      "----------------------------------------\n",
      "Studio\n",
      "--------------------\n",
      "383\n",
      "----------------------------------------\n",
      "Kibana\n",
      "--------------------\n",
      "383\n",
      "----------------------------------------\n",
      "Confluence\n",
      "--------------------\n",
      "383\n",
      "----------------------------------------\n",
      "Jira\n",
      "--------------------\n",
      "383\n",
      "----------------------------------------\n"
     ]
    }
   ],
   "source": [
    "for ee_doc in doc_spacy.ents:\n",
    "    print(ee_doc)\n",
    "    print('-' * 20)\n",
    "    print(ee_doc.label)\n",
    "    print('-' * 40)"
   ]
  },
  {
   "cell_type": "code",
   "execution_count": 15,
   "id": "f51c0ba1",
   "metadata": {},
   "outputs": [
    {
     "name": "stdout",
     "output_type": "stream",
     "text": [
      "Лусинэ Месроповна\n"
     ]
    }
   ],
   "source": [
    "for ent in doc_spacy.ents:\n",
    "    if ent.label_ == \"PER\":\n",
    "        print(ent.text)"
   ]
  },
  {
   "cell_type": "code",
   "execution_count": 19,
   "id": "15fae76b",
   "metadata": {},
   "outputs": [
    {
     "data": {
      "text/plain": [
       "'Оганевская Лусинэ Месроповна\\nЖенщина, 34 года, родилась 12 июля 1990\\n+7 (988) 5639406 — предпочитаемый способ связи • и на электронную почту\\nlusineogan1207@mail.ru\\nДругой сайт: https://t.me/Lusine1207\\nПроживает: Москва\\nГражданство: Россия, есть разрешение на работу: Россия\\nНе готова к переезду, готова к редким командировкам\\nЖелаемая должность и зарплата\\nQA Engineer / Тестировщик\\nСпециализации:\\n— Тестировщик\\nЗанятость: полная занятость\\nГрафик работы: полный день, удаленная работа\\nЖелательное врем'"
      ]
     },
     "execution_count": 19,
     "metadata": {},
     "output_type": "execute_result"
    }
   ],
   "source": [
    "text[:500]"
   ]
  },
  {
   "cell_type": "code",
   "execution_count": 20,
   "id": "20ad8d72",
   "metadata": {},
   "outputs": [
    {
     "name": "stdout",
     "output_type": "stream",
     "text": [
      "['QA']\n"
     ]
    }
   ],
   "source": [
    "candidate_labels = list(parser.specializations.keys())\n",
    "            \n",
    "# Classify text\n",
    "result = parser.classifier(\n",
    "    text[:500],  # Take first 300 characters\n",
    "    candidate_labels,\n",
    "    multi_label=True\n",
    ")\n",
    "\n",
    "# Filter results with high confidence (more than 0.3)\n",
    "print([label for label, score in zip(result['labels'], result['scores']) if score > 0.85])"
   ]
  },
  {
   "cell_type": "code",
   "execution_count": 21,
   "id": "d482273d",
   "metadata": {},
   "outputs": [
    {
     "data": {
      "text/plain": [
       "[('QA', 0.948006272315979),\n",
       " ('Backend', 0.508602499961853),\n",
       " ('Designer', 0.4928992688655853),\n",
       " ('Analyst', 0.4486701786518097),\n",
       " ('Frontend', 0.338078111410141),\n",
       " ('System Analyst', 0.26465460658073425),\n",
       " ('Data Science', 0.2644566297531128),\n",
       " ('Business Analyst', 0.20733293890953064),\n",
       " ('iOS', 0.19728493690490723),\n",
       " ('Python', 0.17091578245162964),\n",
       " ('DevOps', 0.16643071174621582),\n",
       " ('Project Manager', 0.13336649537086487),\n",
       " ('Android', 0.12743806838989258),\n",
       " ('Product Manager', 0.10118655115365982),\n",
       " ('Java', 0.06373512744903564)]"
      ]
     },
     "execution_count": 21,
     "metadata": {},
     "output_type": "execute_result"
    }
   ],
   "source": [
    "list(zip(result['labels'], result['scores']))"
   ]
  },
  {
   "cell_type": "code",
   "execution_count": null,
   "id": "6ef0f969",
   "metadata": {},
   "outputs": [],
   "source": [
    "def test_extract_name(parser, text):\n",
    "    \"\"\"Тестирование извлечения имени\"\"\"\n",
    "    logger.info(\"Тестирование извлечения имени\")\n",
    "    try:\n",
    "        name = parser.extract_name(text)\n",
    "        logger.info(f\"Извлеченное имя: {name}\")\n",
    "        return name\n",
    "    except Exception as e:\n",
    "        logger.error(f\"Ошибка при извлечении имени: {e}\")\n",
    "        return None\n",
    "\n",
    "def test_extract_email(parser, text):\n",
    "    \"\"\"Тестирование извлечения email\"\"\"\n",
    "    logger.info(\"Тестирование извлечения email\")\n",
    "    try:\n",
    "        email = parser.extract_email(text)\n",
    "        logger.info(f\"Извлеченный email: {email}\")\n",
    "        return email\n",
    "    except Exception as e:\n",
    "        logger.error(f\"Ошибка при извлечении email: {e}\")\n",
    "        return None\n",
    "\n",
    "def test_extract_phone(parser, text):\n",
    "    \"\"\"Тестирование извлечения телефона\"\"\"\n",
    "    logger.info(\"Тестирование извлечения телефона\")\n",
    "    try:\n",
    "        phone = parser.extract_phone(text)\n",
    "        logger.info(f\"Извлеченный телефон: {phone}\")\n",
    "        return phone\n",
    "    except Exception as e:\n",
    "        logger.error(f\"Ошибка при извлечении телефона: {e}\")\n",
    "        return None\n",
    "\n",
    "def test_extract_specialization(parser, text):\n",
    "    \"\"\"Тестирование извлечения специализаций\"\"\"\n",
    "    logger.info(\"Тестирование извлечения специализаций\")\n",
    "    try:\n",
    "        specs = parser.extract_specialization(text)\n",
    "        logger.info(\"Извлеченные специализации:\")\n",
    "        for spec in specs:\n",
    "            logger.info(f\"- {spec}\")\n",
    "        return specs\n",
    "    except Exception as e:\n",
    "        logger.error(f\"Ошибка при извлечении специализаций: {e}\")\n",
    "        return None\n",
    "\n",
    "def analyze_resume(file_path):\n",
    "    \"\"\"Полный анализ резюме\"\"\"\n",
    "    logger.info(f\"Начало анализа резюме: {file_path}\")\n",
    "    \n",
    "    # Инициализация парсера\n",
    "    parser = AdvancedResumeParser()\n",
    "    \n",
    "    # Извлекаем текст\n",
    "    text = test_extract_text(parser, file_path)\n",
    "    if not text:\n",
    "        logger.error(\"Не удалось извлечь текст из резюме\")\n",
    "        return\n",
    "    \n",
    "    # Извлекаем данные\n",
    "    name = test_extract_name(parser, text)\n",
    "    email = test_extract_email(parser, text)\n",
    "    phone = test_extract_phone(parser, text)\n",
    "    specs = test_extract_specialization(parser, text)\n",
    "    \n",
    "    # Выводим итоговый результат\n",
    "    logger.info(\"\\nИтоговые результаты анализа резюме:\")\n",
    "    logger.info(\"-\" * 50)\n",
    "    logger.info(f\"Имя: {name}\")\n",
    "    logger.info(f\"Email: {email}\")\n",
    "    logger.info(f\"Телефон: {phone}\")\n",
    "    logger.info(\"Специализации:\")\n",
    "    for spec in specs or []:\n",
    "        logger.info(f\"- {spec}\")\n",
    "\n"
   ]
  },
  {
   "cell_type": "code",
   "execution_count": null,
   "id": "c51dbe81",
   "metadata": {},
   "outputs": [],
   "source": [
    "def main(file_path):\n",
    "    \"\"\"Основная функция для запуска тестов\"\"\"\n",
    "    if not os.path.exists(file_path):\n",
    "        logger.error(f\"Файл не найден: {file_path}\")\n",
    "        sys.exit(1)\n",
    "    \n",
    "    analyze_resume(file_path)"
   ]
  }
 ],
 "metadata": {
  "kernelspec": {
   "display_name": "Python 3 (ipykernel)",
   "language": "python",
   "name": "python3"
  },
  "language_info": {
   "codemirror_mode": {
    "name": "ipython",
    "version": 3
   },
   "file_extension": ".py",
   "mimetype": "text/x-python",
   "name": "python",
   "nbconvert_exporter": "python",
   "pygments_lexer": "ipython3",
   "version": "3.10.4"
  }
 },
 "nbformat": 4,
 "nbformat_minor": 5
}
